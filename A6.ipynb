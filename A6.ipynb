{
 "cells": [
  {
   "cell_type": "code",
   "execution_count": 1,
   "id": "adf42f65",
   "metadata": {},
   "outputs": [],
   "source": [
    "import tensorflow as tf\n",
    "from tensorflow.keras.datasets import cifar10\n",
    "from tensorflow.keras.applications import VGG16\n",
    "from tensorflow.keras.models import Sequential\n",
    "from tensorflow.keras.layers import Flatten, Dense\n",
    "from tensorflow.keras.utils import to_categorical"
   ]
  },
  {
   "cell_type": "code",
   "execution_count": null,
   "id": "f29bb8a9",
   "metadata": {
    "scrolled": true
   },
   "outputs": [
    {
     "name": "stdout",
     "output_type": "stream",
     "text": [
      "A local file was found, but it seems to be incomplete or outdated because the auto file hash does not match the original value of 6d958be074577803d12ecdefd02955f39262c83c16fe9348329d7fe0b5c001ce so we will re-download the data.\n",
      "Downloading data from https://www.cs.toronto.edu/~kriz/cifar-10-python.tar.gz\n",
      "168026112/170498071 [============================>.] - ETA: 1:12"
     ]
    }
   ],
   "source": [
    "# Load CIFAR-10 dataset\n",
    "(itrain, ltrain), (itest, ltest) = cifar10.load_data()"
   ]
  },
  {
   "cell_type": "code",
   "execution_count": null,
   "id": "7b3cfcc3",
   "metadata": {},
   "outputs": [],
   "source": [
    "# Preprocess the dataitrain = itrain / 255.0\n",
    "itest = itest / 255.0\n",
    "ltrain = to_categorical(ltrain)\n",
    "ltest = to_categorical(ltest)\n"
   ]
  },
  {
   "cell_type": "code",
   "execution_count": null,
   "id": "3a8de27d",
   "metadata": {},
   "outputs": [],
   "source": [
    "# Load pre-trained VGG16 model (excluding the top fully-connected layers)\n",
    "basem = VGG16(weights='imagenet', include_top=False, input_shape=(32, 32, 3))"
   ]
  },
  {
   "cell_type": "code",
   "execution_count": null,
   "id": "b0d603ad",
   "metadata": {},
   "outputs": [],
   "source": [
    "# Freeze the pre-trained layers\n",
    "for layer in basem.layers:\n",
    "   layer.trainable = False\n"
   ]
  },
  {
   "cell_type": "code",
   "execution_count": null,
   "id": "3d7d1e69",
   "metadata": {},
   "outputs": [],
   "source": [
    "# Create a new model on top\n",
    "semodel = Sequential()\n",
    "semodel.add(basem)\n",
    "semodel.add(Flatten())\n",
    "semodel.add(Dense(256, activation='relu'))\n",
    "semodel.add(Dense(10, activation='softmax'))  # CIFAR-10 has 10 classes"
   ]
  },
  {
   "cell_type": "code",
   "execution_count": null,
   "id": "b16e7f49",
   "metadata": {},
   "outputs": [],
   "source": [
    "# Compile the model\n",
    "semodel.compile(optimizer='adam', loss='categorical_crossentropy', metrics=['accuracy'])"
   ]
  },
  {
   "cell_type": "code",
   "execution_count": null,
   "id": "ec8d8d93",
   "metadata": {},
   "outputs": [],
   "source": [
    "# Train the model\n",
    "semodel.fit(itrain, ltrain, epochs=10, batch_size=32, validation_data=(itest, ltest))\n"
   ]
  },
  {
   "cell_type": "code",
   "execution_count": null,
   "id": "271c11b1",
   "metadata": {},
   "outputs": [],
   "source": [
    "# Evaluate the model on test data\n",
    "ltest, atest = semodel.evaluate(itest, ltest)\n",
    "print(\"Test accuracy:\", atest)"
   ]
  },
  {
   "cell_type": "code",
   "execution_count": null,
   "id": "026bbfb6",
   "metadata": {},
   "outputs": [],
   "source": []
  }
 ],
 "metadata": {
  "kernelspec": {
   "display_name": "Python 3 (ipykernel)",
   "language": "python",
   "name": "python3"
  },
  "language_info": {
   "codemirror_mode": {
    "name": "ipython",
    "version": 3
   },
   "file_extension": ".py",
   "mimetype": "text/x-python",
   "name": "python",
   "nbconvert_exporter": "python",
   "pygments_lexer": "ipython3",
   "version": "3.11.4"
  }
 },
 "nbformat": 4,
 "nbformat_minor": 5
}
