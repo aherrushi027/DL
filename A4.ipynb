{
 "cells": [
  {
   "cell_type": "code",
   "execution_count": 1,
   "id": "e851e58c",
   "metadata": {},
   "outputs": [],
   "source": [
    "import keras\n",
    "from keras import layers"
   ]
  },
  {
   "cell_type": "code",
   "execution_count": 2,
   "id": "ac222e1e",
   "metadata": {},
   "outputs": [],
   "source": [
    "encoding_dim = 32 # 32 floats -> compression of factor 24.5, assuming the input is\n"
   ]
  },
  {
   "cell_type": "code",
   "execution_count": 3,
   "id": "3abce983",
   "metadata": {},
   "outputs": [],
   "source": [
    "input_img = keras.Input(shape=(784,))\n"
   ]
  },
  {
   "cell_type": "code",
   "execution_count": 4,
   "id": "57f4ea36",
   "metadata": {},
   "outputs": [],
   "source": [
    "encoded = layers.Dense(encoding_dim, activation='relu')(input_img)\n"
   ]
  },
  {
   "cell_type": "code",
   "execution_count": 5,
   "id": "5e1e8433",
   "metadata": {},
   "outputs": [],
   "source": [
    "decoded = layers.Dense(784, activation='sigmoid')(encoded)\n"
   ]
  },
  {
   "cell_type": "code",
   "execution_count": 6,
   "id": "432a6507",
   "metadata": {},
   "outputs": [],
   "source": [
    "autoencoder = keras.Model(input_img, decoded)\n"
   ]
  },
  {
   "cell_type": "code",
   "execution_count": 7,
   "id": "fa52a932",
   "metadata": {},
   "outputs": [],
   "source": [
    "encoder = keras.Model(input_img, encoded)\n"
   ]
  },
  {
   "cell_type": "code",
   "execution_count": 8,
   "id": "c2126cf4",
   "metadata": {},
   "outputs": [],
   "source": [
    "\n",
    "# This is our encoded (32-dimensional) input\n",
    "encoded_input = keras.Input(shape=(encoding_dim,))\n",
    "# Retrieve the last layer of the autoencoder model\n",
    "decoder_layer = autoencoder.layers[-1]\n",
    "# Create the decoder model\n",
    "decoder = keras.Model(encoded_input, decoder_layer(encoded_input))"
   ]
  },
  {
   "cell_type": "code",
   "execution_count": 9,
   "id": "40a25240",
   "metadata": {},
   "outputs": [],
   "source": [
    "\n",
    "autoencoder.compile(optimizer='adam', loss='binary_crossentropy')\n"
   ]
  },
  {
   "cell_type": "code",
   "execution_count": 10,
   "id": "7e17205c",
   "metadata": {},
   "outputs": [],
   "source": [
    "\n",
    "from keras.datasets import mnist\n",
    "import numpy as np\n",
    "(x_train, _), (x_test, _) = mnist.load_data()\n"
   ]
  },
  {
   "cell_type": "code",
   "execution_count": 11,
   "id": "f89f2fb5",
   "metadata": {},
   "outputs": [
    {
     "name": "stdout",
     "output_type": "stream",
     "text": [
      "(60000, 784)\n",
      "(10000, 784)\n"
     ]
    }
   ],
   "source": [
    "\n",
    "x_train = x_train.astype('float32') / 255.\n",
    "x_test = x_test.astype('float32') / 255.\n",
    "x_train = x_train.reshape((len(x_train), np.prod(x_train.shape[1:])))\n",
    "x_test = x_test.reshape((len(x_test), np.prod(x_test.shape[1:])))\n",
    "print(x_train.shape)\n",
    "print(x_test.shape)\n"
   ]
  },
  {
   "cell_type": "code",
   "execution_count": 12,
   "id": "57cf4537",
   "metadata": {
    "scrolled": false
   },
   "outputs": [
    {
     "name": "stdout",
     "output_type": "stream",
     "text": [
      "Epoch 1/10\n",
      "235/235 [==============================] - 6s 17ms/step - loss: 0.2768 - val_loss: 0.1926\n",
      "Epoch 2/10\n",
      "235/235 [==============================] - 4s 15ms/step - loss: 0.1729 - val_loss: 0.1549\n",
      "Epoch 3/10\n",
      "235/235 [==============================] - 3s 14ms/step - loss: 0.1439 - val_loss: 0.1323\n",
      "Epoch 4/10\n",
      "235/235 [==============================] - 4s 15ms/step - loss: 0.1272 - val_loss: 0.1199\n",
      "Epoch 5/10\n",
      "235/235 [==============================] - 3s 15ms/step - loss: 0.1170 - val_loss: 0.1117\n",
      "Epoch 6/10\n",
      "235/235 [==============================] - 4s 15ms/step - loss: 0.1099 - val_loss: 0.1057\n",
      "Epoch 7/10\n",
      "235/235 [==============================] - 3s 15ms/step - loss: 0.1048 - val_loss: 0.1015\n",
      "Epoch 8/10\n",
      "235/235 [==============================] - 3s 15ms/step - loss: 0.1012 - val_loss: 0.0985\n",
      "Epoch 9/10\n",
      "235/235 [==============================] - 4s 15ms/step - loss: 0.0987 - val_loss: 0.0964\n",
      "Epoch 10/10\n",
      "235/235 [==============================] - 3s 14ms/step - loss: 0.0970 - val_loss: 0.0952\n"
     ]
    },
    {
     "data": {
      "text/plain": [
       "<keras.src.callbacks.History at 0x26b7b1a7fd0>"
      ]
     },
     "execution_count": 12,
     "metadata": {},
     "output_type": "execute_result"
    }
   ],
   "source": [
    "\n",
    "autoencoder.fit(x_train, x_train,\n",
    " epochs=10,\n",
    " batch_size=256,\n",
    " shuffle=True,\n",
    " validation_data=(x_test, x_test))"
   ]
  },
  {
   "cell_type": "code",
   "execution_count": 13,
   "id": "fd66235f",
   "metadata": {},
   "outputs": [
    {
     "name": "stdout",
     "output_type": "stream",
     "text": [
      "313/313 [==============================] - 1s 4ms/step\n",
      "313/313 [==============================] - 2s 4ms/step\n"
     ]
    }
   ],
   "source": [
    "\n",
    "# Encode and decode some digits\n",
    "# Note that we take them from the *test* set\n",
    "encoded_imgs = encoder.predict(x_test)\n",
    "decoded_imgs = decoder.predict(encoded_imgs)\n"
   ]
  },
  {
   "cell_type": "code",
   "execution_count": 14,
   "id": "9fdff805",
   "metadata": {},
   "outputs": [
    {
     "data": {
      "image/png": "[encoded data removed]",
      "text/plain": [
       "<Figure size 2000x400 with 20 Axes>"
      ]
     },
     "metadata": {},
     "output_type": "display_data"
    }
   ],
   "source": [
    "import matplotlib.pyplot as plt\n",
    "n = 10 # How many digits we will display\n",
    "plt.figure(figsize=(20, 4))\n",
    "for i in range(n):\n",
    " # Display original\n",
    " ax = plt.subplot(2, n, i + 1)\n",
    " plt.imshow(x_test[i].reshape(28, 28))\n",
    " plt.gray()\n",
    " ax.get_xaxis().set_visible(False)\n",
    " ax.get_yaxis().set_visible(False)\n",
    " # Display reconstruction\n",
    " ax = plt.subplot(2, n, i + 1 + n)\n",
    " plt.imshow(decoded_imgs[i].reshape(28, 28))\n",
    " plt.gray()\n",
    " ax.get_xaxis().set_visible(False)\n",
    " ax.get_yaxis().set_visible(False)\n",
    "plt.show()"
   ]
  },
  {
   "cell_type": "code",
   "execution_count": null,
   "id": "6082bf87",
   "metadata": {},
   "outputs": [],
   "source": []
  }
 ],
 "metadata": {
  "kernelspec": {
   "display_name": "Python 3 (ipykernel)",
   "language": "python",
   "name": "python3"
  },
  "language_info": {
   "codemirror_mode": {
    "name": "ipython",
    "version": 3
   },
   "file_extension": ".py",
   "mimetype": "text/x-python",
   "name": "python",
   "nbconvert_exporter": "python",
   "pygments_lexer": "ipython3",
   "version": "3.11.4"
  }
 },
 "nbformat": 4,
 "nbformat_minor": 5
}
